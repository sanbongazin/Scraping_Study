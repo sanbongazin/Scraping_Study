{
 "cells": [
  {
   "cell_type": "code",
   "execution_count": 2,
   "metadata": {},
   "outputs": [],
   "source": [
    "from __future__ import division\n",
    "import sys, os, pickle\n",
    "\n",
    "import numpy as np\n",
    "import numpy.random as rd\n",
    "\n",
    "from scipy.misc import imread\n",
    "\n",
    "import matplotlib.pyplot as plt\n",
    "%matplotlib inline"
   ]
  },
  {
   "cell_type": "code",
   "execution_count": 3,
   "metadata": {},
   "outputs": [],
   "source": [
    "image_size = 28\n",
    "depth = 255\n",
    "\n",
    "def unpickle(filename):\n",
    "    with open(filename, 'rb') as fo:\n",
    "        _dict = pickle.load(fo)\n",
    "    return _dict\n",
    "\n",
    "def to_pickle(filename, obj):\n",
    "    with open(filename, 'wb') as f:\n",
    "        #pickle.dump(obj, f, -1)\n",
    "        pickle.Pickler(f, protocol=2).dump(obj)\n",
    "\n",
    "def count_empty_file(folder):\n",
    "    cnt = 0\n",
    "    for file in os.listdir(folder):\n",
    "        if os.stat(os.path.join(folder, file)).st_size == 0:\n",
    "            cnt += 1\n",
    "    return cnt"
   ]
  },
  {
   "cell_type": "code",
   "execution_count": 4,
   "metadata": {},
   "outputs": [],
   "source": [
    "label_conv = {a: i for a, i in zip('ABCDEFGHIJ', range(10))}\n",
    "num2alpha = {i: a for i,a in zip(range(10), 'ABCDEFGHIJ')}"
   ]
  },
  {
   "cell_type": "code",
   "execution_count": 5,
   "metadata": {},
   "outputs": [
    {
     "ename": "KeyError",
     "evalue": "'.ipynb_checkpoints'",
     "output_type": "error",
     "traceback": [
      "\u001b[0;31m---------------------------------------------------------------------------\u001b[0m",
      "\u001b[0;31mKeyError\u001b[0m                                  Traceback (most recent call last)",
      "\u001b[0;32m<ipython-input-5-e11e7bbd4ff2>\u001b[0m in \u001b[0;36m<module>\u001b[0;34m()\u001b[0m\n\u001b[1;32m     25\u001b[0m \u001b[0;34m\u001b[0m\u001b[0m\n\u001b[1;32m     26\u001b[0m         \u001b[0mlabel_name\u001b[0m \u001b[0;34m=\u001b[0m \u001b[0mos\u001b[0m\u001b[0;34m.\u001b[0m\u001b[0mpath\u001b[0m\u001b[0;34m.\u001b[0m\u001b[0mbasename\u001b[0m\u001b[0;34m(\u001b[0m\u001b[0mfolder\u001b[0m\u001b[0;34m)\u001b[0m\u001b[0;34m\u001b[0m\u001b[0m\n\u001b[0;32m---> 27\u001b[0;31m         \u001b[0mlabels\u001b[0m\u001b[0;34m[\u001b[0m\u001b[0mlast_num\u001b[0m\u001b[0;34m:\u001b[0m\u001b[0;34m(\u001b[0m\u001b[0mlast_num\u001b[0m\u001b[0;34m+\u001b[0m\u001b[0mfile_cnt\u001b[0m\u001b[0;34m)\u001b[0m\u001b[0;34m]\u001b[0m \u001b[0;34m=\u001b[0m \u001b[0mlabel_conv\u001b[0m\u001b[0;34m[\u001b[0m\u001b[0mlabel_name\u001b[0m\u001b[0;34m]\u001b[0m\u001b[0;34m\u001b[0m\u001b[0m\n\u001b[0m\u001b[1;32m     28\u001b[0m         \u001b[0;31m#label = np.array([label_name] * file_cnt)\u001b[0m\u001b[0;34m\u001b[0m\u001b[0;34m\u001b[0m\u001b[0m\n\u001b[1;32m     29\u001b[0m \u001b[0;34m\u001b[0m\u001b[0m\n",
      "\u001b[0;31mKeyError\u001b[0m: '.ipynb_checkpoints'"
     ]
    }
   ],
   "source": [
    "# 読み込み対象フォルダの存在チェック\n",
    "assert os.path.exists('notMNIST_large')\n",
    "# assert os.path.exists('notMNIST_small')  # smallも読み込むときはチェック用に復活させてください。\n",
    "\n",
    "for root_dir in ['notMNIST_large']: # ['notMNIST_small', 'notMNIST_large']: # smallも使う場合は両方選択する\n",
    "    folders = [os.path.join(root_dir, d) for d in sorted(os.listdir(root_dir)) \n",
    "               if os.path.isdir(os.path.join(root_dir, d))]\n",
    "    # 枠を作る\n",
    "    file_cnt = 0\n",
    "    for folder in folders:\n",
    "\n",
    "        label_name = os.path.basename(folder)\n",
    "        file_list = os.listdir(folder)\n",
    "        file_cnt += len(file_list)-count_empty_file(folder)\n",
    "\n",
    "    dataset = np.ndarray(shape=(file_cnt, image_size*image_size), dtype=np.float32)\n",
    "    labels  = np.ndarray(shape=(file_cnt), dtype=np.int)\n",
    "\n",
    "    last_num = 0  # 前の文字の最終インデックス\n",
    "\n",
    "    for folder in folders:\n",
    "\n",
    "        file_list = os.listdir(folder)\n",
    "        file_cnt = len(file_list)-count_empty_file(folder)\n",
    "\n",
    "        label_name = os.path.basename(folder)\n",
    "        labels[last_num:(last_num+file_cnt)] = label_conv[label_name]\n",
    "        #label = np.array([label_name] * file_cnt)\n",
    "\n",
    "        skip = 0\n",
    "        for i, file in enumerate(file_list):\n",
    "\n",
    "            # ファイルサイズが0のものはスキップ\n",
    "            if os.stat(os.path.join(folder, file)).st_size == 0:\n",
    "                skip += 1\n",
    "                continue\n",
    "            try:\n",
    "                data = imread(os.path.join(folder, file))\n",
    "                data   = data.astype(np.float32)\n",
    "                data  /= depth     # 0-1のデータに変換\n",
    "                dataset[last_num+i-skip, :] = data.flatten()\n",
    "            except:\n",
    "                skip += 1\n",
    "                print ('error {}'.format(file))\n",
    "                continue\n",
    "        last_num += i-skip\n",
    "\n",
    "    notmnist = {}\n",
    "    notmnist['data'] = dataset\n",
    "    notmnist['target'] = labels\n",
    "    to_pickle('{}.pkl'.format(root_dir), notmnist)"
   ]
  },
  {
   "cell_type": "code",
   "execution_count": null,
   "metadata": {},
   "outputs": [],
   "source": []
  }
 ],
 "metadata": {
  "kernelspec": {
   "display_name": "Environment (conda_anaconda3-5.1.0)",
   "language": "python",
   "name": "conda_anaconda3-5.1.0"
  },
  "toc": {
   "base_numbering": 1,
   "nav_menu": {},
   "number_sections": true,
   "sideBar": true,
   "skip_h1_title": false,
   "title_cell": "Table of Contents",
   "title_sidebar": "Contents",
   "toc_cell": false,
   "toc_position": {},
   "toc_section_display": true,
   "toc_window_display": false
  }
 },
 "nbformat": 4,
 "nbformat_minor": 2
}
