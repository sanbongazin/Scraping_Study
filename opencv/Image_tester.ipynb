{
 "cells": [
  {
   "cell_type": "code",
   "execution_count": 55,
   "metadata": {},
   "outputs": [
    {
     "name": "stdout",
     "output_type": "stream",
     "text": [
      "uint8\n",
      "(619, 485, 3)\n"
     ]
    }
   ],
   "source": [
    "import cv2 as cv\n",
    "\n",
    "image = cv.imread(\"/Users/yamamotomasaomi/Fami/fami67.JPG\")\n",
    "print (str(image.dtype))\n",
    "print(str(image.shape), sep = '¥n')"
   ]
  },
  {
   "cell_type": "code",
   "execution_count": 56,
   "metadata": {},
   "outputs": [],
   "source": [
    "with open(\"path_and_label\",\"w\") as file:\n",
    "    for count in range (1,103):\n",
    "        file.write(\"/Users/yamamotomasaomi/Fami/fami\"+str(count)+\".jpg\"+\" \"+ \"1\"+\"\\n\" )\n",
    "#         file.write(\"~/Familymart/fami\"+str(count)+\".jpg\"+\" \"+ \"1\"+\"\\n\")\n",
    "        count += 1\n",
    "    for count in range (104,113):\n",
    "        file.write(\"/Users/yamamotomasaomi/Fami/fami\"+str(count)+\".jpg\"+\" \"+ \"0\" + \"\\n\")\n",
    "        count += 1"
   ]
  },
  {
   "cell_type": "code",
   "execution_count": null,
   "metadata": {},
   "outputs": [],
   "source": [
    "with open(\"path_and_label.csv\",\"w\") as file:\n",
    "    for count in range (1,103):\n",
    "        file.write(\"/Users/yamamotomasaomi/Fami/fami\"+str(count)+\".jpg\"+\",\"+ \"1\"+\"\\n\" )\n",
    "#         file.write(\"~/Familymart/fami\"+str(count)+\".jpg\"+\" \"+ \"1\"+\"\\n\")\n",
    "        count += 1\n",
    "    for count in range (104,113):\n",
    "        file.write(\"/Users/yamamotomasaomi/Fami/fami\"+str(count)+\".jpg\"+\",\"+ \"0\" + \"\\n\")\n",
    "        count += 1"
   ]
  },
  {
   "cell_type": "code",
   "execution_count": null,
   "metadata": {},
   "outputs": [],
   "source": []
  }
 ],
 "metadata": {
  "kernelspec": {
   "display_name": "Environment (conda_anaconda3-5.1.0)",
   "language": "python",
   "name": "conda_anaconda3-5.1.0"
  },
  "language_info": {
   "codemirror_mode": {
    "name": "ipython",
    "version": 3
   },
   "file_extension": ".py",
   "mimetype": "text/x-python",
   "name": "python",
   "nbconvert_exporter": "python",
   "pygments_lexer": "ipython3",
   "version": "3.6.4"
  },
  "toc": {
   "base_numbering": 1,
   "nav_menu": {},
   "number_sections": true,
   "sideBar": true,
   "skip_h1_title": false,
   "title_cell": "Table of Contents",
   "title_sidebar": "Contents",
   "toc_cell": false,
   "toc_position": {},
   "toc_section_display": true,
   "toc_window_display": false
  }
 },
 "nbformat": 4,
 "nbformat_minor": 2
}
