{
 "cells": [
  {
   "cell_type": "code",
   "execution_count": 1,
   "metadata": {},
   "outputs": [],
   "source": [
    "#  必要な素材の収集\n",
    "import tensorflow as tf\n",
    "import numpy as np\n",
    "import matplotlib.pyplot as plt\n",
    "from __future__ import division\n",
    "import sys, os, pickle\n",
    "import numpy.random as rd\n",
    "\n",
    "from scipy.misc import imread\n",
    "\n",
    "import matplotlib.pyplot as plt\n",
    "\n",
    "# ランダムシードの作成\n",
    "# np.random.seed(20160703)\n",
    "# tf.set_random_seed(20160703)\n",
    "\n",
    "\n",
    "# その他コンフィグ（いつもの）\n",
    "%config IPCompleter.greedy=True\n",
    "%matplotlib inline\n",
    "%matplotlib notebook\n",
    "\n",
    "#画像取り込みデータのオープン\n",
    "# !ls session_MNIST_Image*"
   ]
  },
  {
   "cell_type": "code",
   "execution_count": 2,
   "metadata": {},
   "outputs": [],
   "source": [
    "# 畳みこみフィルターの設定\n",
    "num_filters1 = 32\n",
    "\n",
    "# プレースホルダーの設定\n",
    "x = tf.placeholder(tf.float32,[None, 28*28*3])\n",
    "x_image = tf.reshape(x, [-1, 28, 28, 1])\n",
    "\n",
    "W_conv1 = tf.Variable(tf.truncated_normal([5, 5, 1, num_filters1],\n",
    "                                         stddev = 0.1))\n",
    "h_conv1 = tf.nn.conv2d(x_image, W_conv1,\n",
    "                      strides = [1, 1, 1, 1], padding = 'SAME')\n",
    "b_conv1 = tf.Variable(tf.constant(0.1, shape=[num_filters1]))\n",
    "h_conv1_cutoff = tf.nn.relu(h_conv1 + b_conv1)\n",
    "h_pool1 = tf.nn.max_pool(h_conv1_cutoff, ksize=[1, 2 , 2 , 1],\n",
    "                         strides = [1, 2, 2, 1], padding = 'SAME')"
   ]
  },
  {
   "cell_type": "code",
   "execution_count": 3,
   "metadata": {},
   "outputs": [],
   "source": [
    "num_filters2 = 64\n",
    "\n",
    "W_conv2 = tf.Variable(tf.truncated_normal([5, 5, num_filters1, num_filters2],\n",
    "                                           stddev = 0.1))\n",
    "h_conv2 = tf.nn.conv2d(h_pool1, W_conv2,\n",
    "                       strides=[1, 1, 1, 1], padding='SAME')\n",
    "b_conv2 = tf.Variable(tf.constant(0.1, shape=[num_filters2]))\n",
    "\n",
    "h_conv2_cutoff = tf.nn.relu(h_conv2 + b_conv2)\n",
    "\n",
    "h_pool2 = tf.nn.max_pool(h_conv2_cutoff, ksize=[1, 2, 2, 1],\n",
    "                         strides= [1, 2, 2, 1], padding = 'SAME')"
   ]
  },
  {
   "cell_type": "code",
   "execution_count": 4,
   "metadata": {},
   "outputs": [],
   "source": [
    "h_pool2_flat = tf.reshape(h_pool2, [-1, 3*7*7*num_filters2])\n",
    "\n",
    "num_units1 = 3*7*7*num_filters2\n",
    "num_units2 = 510//3\n",
    "\n",
    "w2 = tf.Variable(tf.truncated_normal([num_units1, num_units2]))\n",
    "b2 = tf.Variable(tf.constant(0.1, shape=[num_units2]))\n",
    "hidden2 = tf.nn.relu(tf.matmul(h_pool2_flat, w2) + b2)\n",
    "\n",
    "keep_prob = tf.placeholder(tf.float32)\n",
    "hidden2_drop = tf.nn.dropout(hidden2, keep_prob)\n",
    "\n",
    "w0 = tf.Variable(tf.zeros([num_units2, 3]))\n",
    "b0 = tf.Variable(tf.zeros([3]))\n",
    "p = tf.nn.softmax(tf.matmul(hidden2_drop, w0) + b0)"
   ]
  },
  {
   "cell_type": "code",
   "execution_count": 5,
   "metadata": {},
   "outputs": [
    {
     "name": "stdout",
     "output_type": "stream",
     "text": [
      "INFO:tensorflow:Restoring parameters from /Users/yamamotomasaomi/Documents/GitHub/Python_Study/opencv/learn_result_2cell-2000\n"
     ]
    }
   ],
   "source": [
    "sess = tf.Session()\n",
    "sess.run(tf.global_variables_initializer())\n",
    "saver = tf.train.Saver()\n",
    "saver.restore(sess, '/Users/yamamotomasaomi/Documents/GitHub/Python_Study/opencv/learn_result_2cell-2000')\n",
    "# session = saver.restore(sess, '/Users/yamamotomasaomi/Documents/GitHub/Python_Study/opencv/learn_result_2cell-2000')"
   ]
  },
  {
   "cell_type": "code",
   "execution_count": null,
   "metadata": {},
   "outputs": [],
   "source": [
    "import cv2 as cv\n",
    "\n",
    "real_image = []\n",
    "\n",
    "if __name__ == '__main__':\n",
    "    # 定数定義\n",
    "    ESC_KEY = 27     # Escキー\n",
    "    INTERVAL= 33     # 待ち時間\n",
    "    FRAME_RATE = 30  # fps\n",
    "\n",
    "    ORG_WINDOW_NAME = \"org\"\n",
    "    GAUSSIAN_WINDOW_NAME = \"gaussian\"\n",
    "\n",
    "    DEVICE_ID = 0\n",
    "\n",
    "    # 分類器の指定\n",
    "    cascade_file = \"cascade.xml\"\n",
    "    cascade = cv.CascadeClassifier(cascade_file)\n",
    "\n",
    "    # カメラ映像取得\n",
    "    cap = cv.VideoCapture(DEVICE_ID)\n",
    "\n",
    "    # 初期フレームの読込\n",
    "    end_flag, c_frame = cap.read()\n",
    "    height, width, channels = c_frame.shape\n",
    "\n",
    "    # ウィンドウの準備\n",
    "    cv.namedWindow(ORG_WINDOW_NAME)\n",
    "    cv.namedWindow(GAUSSIAN_WINDOW_NAME)\n",
    "    \n",
    "    i=0\n",
    "    c=0\n",
    "    # 変換処理ループ\n",
    "    while end_flag == True:\n",
    "\n",
    "        # 画像の取得と顔の検出\n",
    "        img = c_frame\n",
    "        img_gray = cv.cvtColor(img, cv.COLOR_BGR2GRAY)\n",
    "        face_list = cascade.detectMultiScale(img_gray, minSize=(100, 100))\n",
    "        # 検出した顔に印を付ける\n",
    "        for (x, y, w, h) in face_list:\n",
    "            color = (0, 0, 225)\n",
    "            pen_w = 3\n",
    "            cv.imwrite(\"cutted.jpg\",cv.cvtColor(img,cv.COLOR_BGR2GRAY))\n",
    "            img_read = cv.imread(\"cutted.jpg\")\n",
    "                    # フレーム表示\n",
    "            cv.rectangle(img_gray, (x, y), (x+w, y+h), color, thickness = pen_w)\n",
    "            img_cutter = img_read[y:y+h,x:x+w]\n",
    "            cv.imwrite(\"cutted2.jpg\",img_cutter)\n",
    "            img_read_cut = cv.imread(\"cutted2.jpg\")\n",
    "            img_read_resized = cv.resize(img_read_cut,(28,28))\n",
    "            real_image.append(img_read_resized.flatten().astype(np.float32)/255.0)\n",
    "            i+=1\n",
    "        \n",
    "        if i>=c and i != 0 :\n",
    "            p_val = sess.run(p, feed_dict={x:real_image[c],keep_prob:1.0})\n",
    "            c+=1\n",
    "        \n",
    "        \n",
    "        #今度は、これを画面上に表示できれば、リソースの測定は可能。ただし、正確性にかける可能性がある。\n",
    "#         今度は、その画像を学習させることもできるので、これで正確性は増す可能性がある。\n",
    "# というか、２層CNNでこの結果なんだから、正確性が実用的ではないかもしれない\n",
    "#         print(np.argmax(p_val[0]))\n",
    "        cv.imshow(GAUSSIAN_WINDOW_NAME, img_gray)\n",
    "        # Escキーで終了\n",
    "        key = cv.waitKey(INTERVAL)\n",
    "        if key == ESC_KEY:\n",
    "            break\n",
    "\n",
    "        # 次のフレーム読み込み\n",
    "        end_flag, c_frame = cap.read()\n",
    "\n",
    "    # 終了処理\n",
    "    cv.destroyAllWindows()\n",
    "    cap.release()"
   ]
  },
  {
   "cell_type": "code",
   "execution_count": null,
   "metadata": {},
   "outputs": [],
   "source": [
    "np.shape(x_image)"
   ]
  },
  {
   "cell_type": "code",
   "execution_count": null,
   "metadata": {},
   "outputs": [],
   "source": []
  },
  {
   "cell_type": "code",
   "execution_count": null,
   "metadata": {},
   "outputs": [],
   "source": []
  },
  {
   "cell_type": "code",
   "execution_count": null,
   "metadata": {},
   "outputs": [],
   "source": []
  }
 ],
 "metadata": {
  "kernelspec": {
   "display_name": "Environment (conda_anaconda3-5.1.0)",
   "language": "python",
   "name": "conda_anaconda3-5.1.0"
  },
  "language_info": {
   "codemirror_mode": {
    "name": "ipython",
    "version": 3
   },
   "file_extension": ".py",
   "mimetype": "text/x-python",
   "name": "python",
   "nbconvert_exporter": "python",
   "pygments_lexer": "ipython3",
   "version": "3.6.4"
  },
  "toc": {
   "base_numbering": 1,
   "nav_menu": {},
   "number_sections": true,
   "sideBar": true,
   "skip_h1_title": false,
   "title_cell": "Table of Contents",
   "title_sidebar": "Contents",
   "toc_cell": false,
   "toc_position": {},
   "toc_section_display": true,
   "toc_window_display": false
  }
 },
 "nbformat": 4,
 "nbformat_minor": 2
}
