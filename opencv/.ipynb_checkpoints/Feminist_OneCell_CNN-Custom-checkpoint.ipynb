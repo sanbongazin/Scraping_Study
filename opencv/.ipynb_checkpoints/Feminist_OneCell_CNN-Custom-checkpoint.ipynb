{
 "cells": [
  {
   "cell_type": "code",
   "execution_count": 1,
   "metadata": {},
   "outputs": [
    {
     "name": "stderr",
     "output_type": "stream",
     "text": [
      "/Users/yamamotomasaomi/.pyenv/versions/anaconda3-5.1.0/lib/python3.6/site-packages/sklearn/cross_validation.py:41: DeprecationWarning: This module was deprecated in version 0.18 in favor of the model_selection module into which all the refactored classes and functions are moved. Also note that the interface of the new CV iterators are different from that of this module. This module will be removed in 0.20.\n",
      "  \"This module will be removed in 0.20.\", DeprecationWarning)\n"
     ]
    }
   ],
   "source": [
    "import numpy as np\n",
    "from sklearn.cross_validation import train_test_split\n",
    "from PIL import Image\n",
    "import cv2 as cv\n",
    "import os\n",
    "\n",
    "class NotFaminist:\n",
    "    def __init__(self):\n",
    "        images, labels = [], []\n",
    "\n",
    "        for i, letter in enumerate(['0', '1']):\n",
    "            directory = '/Users/yamamotomasaomi/Documents/Github/Python_Study/opencv/notFaminist/%s/' % letter\n",
    "            files = os.listdir(directory)\n",
    "            label = np.array([0]*3)\n",
    "            label[i] = 1\n",
    "            i = 0\n",
    "            for file in files:\n",
    "                try:\n",
    "                    img = cv.imread(directory+file)\n",
    "#                     print(img)\n",
    "                    img = cv.resize(img,(28,28))\n",
    "                    images.append(img.flatten().astype(np.float32)/255.0)\n",
    "                except:\n",
    "                    print (\"Skip a corrupted file: \" + file)\n",
    "                    continue\n",
    "                labels.append(label)\n",
    "            train_images, test_images, train_labels, test_labels = \\\n",
    "            train_test_split(images, labels, test_size=0.2, random_state=0)\n",
    "        \n",
    "        class train:\n",
    "            def __init__(self):\n",
    "                self.images = []\n",
    "                self.labels = []\n",
    "                self.batch_counter = 0\n",
    "                \n",
    "            def next_batch(self, num):\n",
    "                if self.batch_counter + num >= len(self.labels):\n",
    "                    batch_images = self.images[self.batch_counter:]\n",
    "                    batch_labels = self.labels[self.batch_counter:]\n",
    "                    left = num - len(batch_labels)\n",
    "                    batch_images.extend(self.images[:left])\n",
    "                    batch_labels.extend(self.labels[:left])\n",
    "                    self.batch_counter = left\n",
    "                else:\n",
    "                    batch_images = self.images[self.batch_counter:self.batch_counter+num]\n",
    "                    batch_labels = self.labels[self.batch_counter:self.batch_counter+num]                  \n",
    "                    self.batch_counter += num\n",
    "                    \n",
    "                return (batch_images, batch_labels)\n",
    "                    \n",
    "        class test:\n",
    "            def __init__(self):\n",
    "                self.images = []\n",
    "                self.labels = []\n",
    "                \n",
    "        self.train = train()\n",
    "        self.test = test()\n",
    "                \n",
    "        self.train.images = train_images\n",
    "        self.train.labels = train_labels\n",
    "        self.test.images = test_images\n",
    "        self.test.labels = test_labels"
   ]
  },
  {
   "cell_type": "code",
   "execution_count": 2,
   "metadata": {},
   "outputs": [
    {
     "name": "stdout",
     "output_type": "stream",
     "text": [
      "Skip a corrupted file: .DS_Store\n"
     ]
    }
   ],
   "source": [
    "mnist = NotFaminist()"
   ]
  },
  {
   "cell_type": "code",
   "execution_count": 3,
   "metadata": {},
   "outputs": [],
   "source": [
    "#  必要な素材の収集\n",
    "import tensorflow as tf\n",
    "import numpy as np\n",
    "import matplotlib.pyplot as plt\n",
    "from __future__ import division\n",
    "import sys, os, pickle\n",
    "import numpy.random as rd\n",
    "\n",
    "from scipy.misc import imread\n",
    "\n",
    "import matplotlib.pyplot as plt\n",
    "\n",
    "# ランダムシードの作成\n",
    "# np.random.seed(20160703)\n",
    "# tf.set_random_seed(20160703)\n",
    "\n",
    "\n",
    "# その他コンフィグ（いつもの）\n",
    "%config IPCompleter.greedy=True\n",
    "%matplotlib inline\n",
    "%matplotlib notebook\n",
    "\n",
    "#画像取り込みデータのオープン\n",
    "# !ls session_MNIST_Image*"
   ]
  },
  {
   "cell_type": "code",
   "execution_count": 4,
   "metadata": {},
   "outputs": [],
   "source": [
    "CHANNELS = 3\n",
    "NUM_CLASSES = 3\n",
    "IMAGE_SIZE = 28\n",
    "IMAGE_MATRIX_SIZE = IMAGE_SIZE * IMAGE_SIZE * CHANNELS\n",
    "num_units = 1024\n",
    "\n",
    "# プレースホルダーの設定\n",
    "x = tf.placeholder(tf.float32,[None, IMAGE_MATRIX_SIZE])\n",
    "w1 = tf.Variable(tf.truncated_normal([IMAGE_MATRIX_SIZE, num_units]))\n",
    "b1 = tf.Variable(tf.zeros([num_units]))\n",
    "hidden1 = tf.nn.relu(tf.matmul(x, w1)+b1)\n",
    "\n",
    "w0 = tf.Variable(tf.zeros([num_units,3]))\n",
    "b0 = tf.Variable(tf.zeros([3]))\n",
    "p = tf.nn.softmax(tf.matmul(hidden1, w0) + b0)"
   ]
  },
  {
   "cell_type": "code",
   "execution_count": 5,
   "metadata": {},
   "outputs": [
    {
     "name": "stdout",
     "output_type": "stream",
     "text": [
      "WARNING:tensorflow:From <ipython-input-5-794d68e7b00b>:4: arg_max (from tensorflow.python.ops.gen_math_ops) is deprecated and will be removed in a future version.\n",
      "Instructions for updating:\n",
      "Use `argmax` instead\n"
     ]
    }
   ],
   "source": [
    "t = tf.placeholder(tf.float32, [None, 3])\n",
    "loss = -tf.reduce_sum(t * tf.log(p))\n",
    "train_step = tf.train.AdamOptimizer().minimize(loss)\n",
    "correct_prediction = tf.equal(tf.arg_max(p, 1), tf.arg_max(t, 1))\n",
    "accuracy = tf.reduce_mean(tf.cast(correct_prediction, tf.float32))"
   ]
  },
  {
   "cell_type": "code",
   "execution_count": 6,
   "metadata": {},
   "outputs": [],
   "source": [
    "sess = tf.Session()\n",
    "sess.run(tf.global_variables_initializer())\n",
    "saver = tf.train.Saver()"
   ]
  },
  {
   "cell_type": "code",
   "execution_count": 15,
   "metadata": {},
   "outputs": [
    {
     "name": "stdout",
     "output_type": "stream",
     "text": [
      "Step: 500, Loss:0.000243, Accuracy: 1.000000\n",
      "Step: 1000, Loss:0.000170, Accuracy: 1.000000\n",
      "Step: 1500, Loss:0.000115, Accuracy: 1.000000\n",
      "Step: 2000, Loss:0.000095, Accuracy: 1.000000\n"
     ]
    },
    {
     "data": {
      "text/plain": [
       "'/Users/yamamotomasaomi/Documents/GitHub/Python_Study/opencv/learn_result-2000'"
      ]
     },
     "execution_count": 15,
     "metadata": {},
     "output_type": "execute_result"
    }
   ],
   "source": [
    "i=0\n",
    "time = []\n",
    "loss_val , acc_val = [], []\n",
    "loss_vals, acc_vals = [], []\n",
    "\n",
    "for _ in range (2000):\n",
    "    i+=1\n",
    "    batch_xs, batch_ts = mnist.train.next_batch(50)\n",
    "    sess.run(train_step,feed_dict={x:batch_xs, t: batch_ts})\n",
    "#     loss_vals, acc_vals = sess.run([loss,accuracy],feed_dict={x:batch_xs,t:batch_ts})\n",
    "#     time.append(i)\n",
    "#     loss_val.append(loss_vals)\n",
    "#     acc_val.append(acc_vals)\n",
    "    \n",
    "    if i % 500 == 0:\n",
    "        for c in range(4):\n",
    "            start = len(mnist.test.images) // 4 * c\n",
    "            end = len(mnist.test.images) // 4 * (c+1)\n",
    "            loss_vals, acc_vals = sess.run([loss,accuracy],feed_dict={x:mnist.test.images[start:end],t:mnist.test.labels[start:end]})\n",
    "            time.append(i)\n",
    "            loss_val.append(loss_vals)\n",
    "            acc_val.append(acc_vals)\n",
    "        loss_val_sum = np.sum(loss_vals)\n",
    "        acc_val_sum = np.mean(acc_vals)\n",
    "        print('Step: %d, Loss:%f, Accuracy: %f' \n",
    "                % (i, loss_val_sum, acc_val_sum))\n",
    "saver.save(sess, '/Users/yamamotomasaomi/Documents/GitHub/Python_Study/opencv/learn_result', global_step=i)"
   ]
  },
  {
   "cell_type": "code",
   "execution_count": 23,
   "metadata": {},
   "outputs": [
    {
     "data": {
      "image/png": "[encoded data removed]",
      "text/plain": [
       "<Figure size 576x1080 with 9 Axes>"
      ]
     },
     "metadata": {},
     "output_type": "display_data"
    }
   ],
   "source": [
    "p_val = sess.run(p, feed_dict={x:batch_xs, t:batch_ts})\n",
    "fig = plt.figure(figsize = (8,15))\n",
    "for i in range(10):\n",
    "    c = 1\n",
    "    for (image, label, pred) in zip(mnist.train.images, mnist.train.labels, p_val):\n",
    "        prediction, actual = np.argmax(pred), np.argmax(label)\n",
    "        if prediction != i:\n",
    "            continue\n",
    "#         if (c < 16  and i == actual) or (c >= 4 and i != actual):\n",
    "# 不正解画像の表示\n",
    "        if prediction != actual:\n",
    "            subplot = fig.add_subplot(10,6,i*6+c)\n",
    "            subplot.set_xticks([])\n",
    "            subplot.set_yticks([])\n",
    "            subplot.set_title('%d/%d' % (prediction,actual))\n",
    "            subplot.imshow(image.reshape(28,28,3), vmin=0, vmax=1,cmap=plt.cm.gray_r, interpolation=\"nearest\")\n",
    "            c += 1\n",
    "        if c > 24:\n",
    "            break"
   ]
  },
  {
   "cell_type": "code",
   "execution_count": 17,
   "metadata": {},
   "outputs": [
    {
     "name": "stdout",
     "output_type": "stream",
     "text": [
      "image:shape=16\n",
      "label:shape=16\n"
     ]
    }
   ],
   "source": [
    "# 確認表示\n",
    "print(\"image:shape=%s\"%(np.shape(time)))\n",
    "# i = 0\n",
    "# for i in range(len(batch_xs)):\n",
    "#     print(batch_xs[i])\n",
    "#     print('\\t')\n",
    "print(\"label:shape=%s\"%(np.shape(acc_val)))\n",
    "# print(batch_ts)"
   ]
  },
  {
   "cell_type": "code",
   "execution_count": 18,
   "metadata": {},
   "outputs": [
    {
     "data": {
      "text/plain": [
       "[<matplotlib.lines.Line2D at 0x1a4606f518>]"
      ]
     },
     "execution_count": 18,
     "metadata": {},
     "output_type": "execute_result"
    },
    {
     "data": {
      "image/png": "[encoded data removed]",
      "text/plain": [
       "<Figure size 576x432 with 1 Axes>"
      ]
     },
     "metadata": {},
     "output_type": "display_data"
    },
    {
     "data": {
      "image/png": "[encoded data removed]",
      "text/plain": [
       "<Figure size 576x432 with 1 Axes>"
      ]
     },
     "metadata": {},
     "output_type": "display_data"
    }
   ],
   "source": [
    "fig = plt.figure(figsize=(8,6))\n",
    "subplot = fig.add_subplot(1,1,1)\n",
    "subplot.plot(time,loss_val,linewidth=2)\n",
    "fig2 = plt.figure(figsize=(8,6))\n",
    "subplot2 = fig2.add_subplot(1,1,1)\n",
    "subplot2.plot(time,acc_val)"
   ]
  },
  {
   "cell_type": "code",
   "execution_count": null,
   "metadata": {},
   "outputs": [],
   "source": [
    "# from IPython.display import display\n",
    "# import fileupload\n",
    "\n",
    "# uploader = fileupload.FileUploadWidget()\n",
    "\n",
    "# def _handle_upload(change):\n",
    "#     w = change['owner']\n",
    "#     with open(w.filename, 'wb') as f:\n",
    "#         f.write(w.data)\n",
    "#     print('Uploaded `{}` ({:.2f} kB)'.format(\n",
    "#         w.filename, len(w.data) / 2**10))\n",
    "\n",
    "# uploader.observe(_handle_upload, names='data')\n",
    "\n",
    "# display(uploader)"
   ]
  },
  {
   "cell_type": "code",
   "execution_count": null,
   "metadata": {},
   "outputs": [],
   "source": [
    "def capture_camera(mirror=True, size=None):\n",
    "    \"\"\"Capture video from camera\"\"\"\n",
    "    # カメラをキャプチャする\n",
    "    cap = cv.VideoCapture(0) # 0はカメラのデバイス番号\n",
    "\n",
    "    while True:\n",
    "        # retは画像を取得成功フラグ\n",
    "        ret, frame = cap.read()\n",
    "\n",
    "        # 鏡のように映るか否か\n",
    "        if mirror is True:\n",
    "            frame = frame[:,::-1]\n",
    "\n",
    "        # フレームをリサイズ\n",
    "        # sizeは例えば(800, 600)\n",
    "        if size is not None and len(size) == 2:\n",
    "            frame = cv.resize(frame, size)\n",
    "\n",
    "        # フレームを表示する\n",
    "        cv.imshow('camera capture', frame)\n",
    "\n",
    "        k = cv.waitKey(1) # 1msec待つ\n",
    "        if k == 27: # ESCキーで終了\n",
    "            break\n",
    "\n",
    "    # キャプチャを解放する\n",
    "    cap.release()\n",
    "    cv.destroyAllWindows()"
   ]
  },
  {
   "cell_type": "code",
   "execution_count": null,
   "metadata": {},
   "outputs": [],
   "source": [
    "capture_camera()"
   ]
  },
  {
   "cell_type": "code",
   "execution_count": null,
   "metadata": {},
   "outputs": [],
   "source": []
  },
  {
   "cell_type": "code",
   "execution_count": null,
   "metadata": {},
   "outputs": [],
   "source": []
  },
  {
   "cell_type": "code",
   "execution_count": null,
   "metadata": {},
   "outputs": [],
   "source": []
  }
 ],
 "metadata": {
  "kernelspec": {
   "display_name": "Environment (conda_anaconda3-5.1.0)",
   "language": "python",
   "name": "conda_anaconda3-5.1.0"
  },
  "language_info": {
   "codemirror_mode": {
    "name": "ipython",
    "version": 3
   },
   "file_extension": ".py",
   "mimetype": "text/x-python",
   "name": "python",
   "nbconvert_exporter": "python",
   "pygments_lexer": "ipython3",
   "version": "3.6.4"
  },
  "toc": {
   "base_numbering": 1,
   "nav_menu": {},
   "number_sections": true,
   "sideBar": true,
   "skip_h1_title": false,
   "title_cell": "Table of Contents",
   "title_sidebar": "Contents",
   "toc_cell": false,
   "toc_position": {},
   "toc_section_display": true,
   "toc_window_display": false
  }
 },
 "nbformat": 4,
 "nbformat_minor": 2
}
