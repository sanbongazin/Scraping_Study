{
 "cells": [
  {
   "cell_type": "code",
   "execution_count": 1,
   "metadata": {},
   "outputs": [
    {
     "name": "stderr",
     "output_type": "stream",
     "text": [
      "/Users/yamamotomasaomi/.pyenv/versions/anaconda3-5.1.0/lib/python3.6/site-packages/sklearn/cross_validation.py:41: DeprecationWarning: This module was deprecated in version 0.18 in favor of the model_selection module into which all the refactored classes and functions are moved. Also note that the interface of the new CV iterators are different from that of this module. This module will be removed in 0.20.\n",
      "  \"This module will be removed in 0.20.\", DeprecationWarning)\n"
     ]
    }
   ],
   "source": [
    "import numpy as np\n",
    "from sklearn.cross_validation import train_test_split\n",
    "from PIL import Image\n",
    "import cv2 as cv\n",
    "import os\n",
    "\n",
    "class NotFaminist:\n",
    "    def __init__(self):\n",
    "        images, labels = [], []\n",
    "\n",
    "        for i, letter in enumerate(['0', '1']):\n",
    "            directory = '/Users/yamamotomasaomi/Documents/Github/Python_Study/opencv/notFaminist/%s/' % letter\n",
    "            files = os.listdir(directory)\n",
    "            label = np.array([0]*3)\n",
    "            label[i] = 1\n",
    "            i = 0\n",
    "            for file in files:\n",
    "                try:\n",
    "                    img = cv.imread(directory+file)\n",
    "                    img = cv.resize(img,(28,28))\n",
    "                    images.append(img.flatten().astype(np.float32)/255.0)\n",
    "                except:\n",
    "                    print (\"Skip a corrupted file: \" + file)\n",
    "                    continue\n",
    "                labels.append(label)\n",
    "            train_images, test_images, train_labels, test_labels = \\\n",
    "            train_test_split(images, labels, test_size=0.2, random_state=0)\n",
    "        \n",
    "        class train:\n",
    "            def __init__(self):\n",
    "                self.images = []\n",
    "                self.labels = []\n",
    "                self.batch_counter = 0\n",
    "                \n",
    "            def next_batch(self, num):\n",
    "                if self.batch_counter + num >= len(self.labels):\n",
    "                    batch_images = self.images[self.batch_counter:]\n",
    "                    batch_labels = self.labels[self.batch_counter:]\n",
    "                    left = num - len(batch_labels)\n",
    "                    batch_images.extend(self.images[:left])\n",
    "                    batch_labels.extend(self.labels[:left])\n",
    "                    self.batch_counter = left\n",
    "                else:\n",
    "                    batch_images = self.images[self.batch_counter:self.batch_counter+num]\n",
    "                    batch_labels = self.labels[self.batch_counter:self.batch_counter+num]                  \n",
    "                    self.batch_counter += num\n",
    "                    \n",
    "                return (batch_images, batch_labels)\n",
    "                    \n",
    "        class test:\n",
    "            def __init__(self):\n",
    "                self.images = []\n",
    "                self.labels = []\n",
    "                \n",
    "        self.train = train()\n",
    "        self.test = test()\n",
    "                \n",
    "        self.train.images = train_images\n",
    "        self.train.labels = train_labels\n",
    "        self.test.images = test_images\n",
    "        self.test.labels = test_labels"
   ]
  },
  {
   "cell_type": "code",
   "execution_count": 2,
   "metadata": {},
   "outputs": [
    {
     "name": "stdout",
     "output_type": "stream",
     "text": [
      "Skip a corrupted file: .DS_Store\n",
      "Skip a corrupted file: .DS_Store\n"
     ]
    }
   ],
   "source": [
    "mnist = NotFaminist()"
   ]
  },
  {
   "cell_type": "code",
   "execution_count": 3,
   "metadata": {},
   "outputs": [],
   "source": [
    "#  必要な素材の収集\n",
    "import tensorflow as tf\n",
    "import numpy as np\n",
    "import matplotlib.pyplot as plt\n",
    "from __future__ import division\n",
    "import sys, os, pickle\n",
    "import numpy.random as rd\n",
    "\n",
    "from scipy.misc import imread\n",
    "\n",
    "import matplotlib.pyplot as plt\n",
    "\n",
    "# ランダムシードの作成\n",
    "# np.random.seed(20160703)\n",
    "# tf.set_random_seed(20160703)\n",
    "\n",
    "\n",
    "# その他コンフィグ（いつもの）\n",
    "%config IPCompleter.greedy=True\n",
    "%matplotlib inline\n",
    "%matplotlib notebook\n",
    "\n",
    "#画像取り込みデータのオープン\n",
    "# !ls session_MNIST_Image*"
   ]
  },
  {
   "cell_type": "code",
   "execution_count": 4,
   "metadata": {},
   "outputs": [],
   "source": [
    "# 畳みこみフィルターの設定\n",
    "num_filters1 = 32\n",
    "\n",
    "# プレースホルダーの設定\n",
    "x = tf.placeholder(tf.float32,[None, 28*28*3])\n",
    "x_image = tf.reshape(x, [-1, 28, 28, 1])\n",
    "\n",
    "W_conv1 = tf.Variable(tf.truncated_normal([5, 5, 1, num_filters1],\n",
    "                                         stddev = 0.1))\n",
    "h_conv1 = tf.nn.conv2d(x_image, W_conv1,\n",
    "                      strides = [1, 1, 1, 1], padding = 'SAME')\n",
    "b_conv1 = tf.Variable(tf.constant(0.1, shape=[num_filters1]))\n",
    "h_conv1_cutoff = tf.nn.relu(h_conv1 + b_conv1)\n",
    "h_pool1 = tf.nn.max_pool(h_conv1_cutoff, ksize=[1, 2 , 2 , 1],\n",
    "                         strides = [1, 2, 2, 1], padding = 'SAME')"
   ]
  },
  {
   "cell_type": "code",
   "execution_count": 5,
   "metadata": {},
   "outputs": [],
   "source": [
    "num_filters2 = 64\n",
    "\n",
    "W_conv2 = tf.Variable(tf.truncated_normal([5, 5, num_filters1, num_filters2],\n",
    "                                           stddev = 0.1))\n",
    "h_conv2 = tf.nn.conv2d(h_pool1, W_conv2,\n",
    "                       strides=[1, 1, 1, 1], padding='SAME')\n",
    "b_conv2 = tf.Variable(tf.constant(0.1, shape=[num_filters2]))\n",
    "\n",
    "h_conv2_cutoff = tf.nn.relu(h_conv2 + b_conv2)\n",
    "\n",
    "h_pool2 = tf.nn.max_pool(h_conv2_cutoff, ksize=[1, 2, 2, 1],\n",
    "                         strides= [1, 2, 2, 1], padding = 'SAME')"
   ]
  },
  {
   "cell_type": "code",
   "execution_count": 6,
   "metadata": {},
   "outputs": [],
   "source": [
    "h_pool2_flat = tf.reshape(h_pool2, [-1, 3*7*7*num_filters2])\n",
    "\n",
    "num_units1 = 3*7*7*num_filters2\n",
    "num_units2 = 510//3\n",
    "\n",
    "w2 = tf.Variable(tf.truncated_normal([num_units1, num_units2]))\n",
    "b2 = tf.Variable(tf.constant(0.1, shape=[num_units2]))\n",
    "hidden2 = tf.nn.relu(tf.matmul(h_pool2_flat, w2) + b2)\n",
    "\n",
    "keep_prob = tf.placeholder(tf.float32)\n",
    "hidden2_drop = tf.nn.dropout(hidden2, keep_prob)\n",
    "\n",
    "w0 = tf.Variable(tf.zeros([num_units2, 3]))\n",
    "b0 = tf.Variable(tf.zeros([3]))\n",
    "p = tf.nn.softmax(tf.matmul(hidden2_drop, w0) + b0)"
   ]
  },
  {
   "cell_type": "code",
   "execution_count": 7,
   "metadata": {},
   "outputs": [],
   "source": [
    "t = tf.placeholder(tf.float32, [None, 3])\n",
    "loss = -tf.reduce_sum(t * tf.log(p))\n",
    "train_step = tf.train.AdadeltaOptimizer(0.0001).minimize(loss)\n",
    "correct_prediction = tf.equal(tf.argmax(p, 1), tf.argmax(t, 1))\n",
    "accuracy = tf.reduce_mean(tf.cast(correct_prediction,tf.float32))"
   ]
  },
  {
   "cell_type": "code",
   "execution_count": 8,
   "metadata": {},
   "outputs": [],
   "source": [
    "sess = tf.Session()\n",
    "sess.run(tf.global_variables_initializer())\n",
    "saver = tf.train.Saver()"
   ]
  },
  {
   "cell_type": "code",
   "execution_count": null,
   "metadata": {},
   "outputs": [],
   "source": [
    "i=0\n",
    "time = []\n",
    "loss_val , acc_val = [], []\n",
    "loss_vals, acc_vals = [], []\n",
    "\n",
    "for _ in range (2000):\n",
    "    i+=1\n",
    "    batch_xs, batch_ts = mnist.train.next_batch(50)\n",
    "    sess.run(train_step,feed_dict={x:batch_xs, t: batch_ts, keep_prob:1.0})\n",
    "    time.append(i)\n",
    "#     loss_val.append(loss_vals)\n",
    "#     acc_val.append(acc_vals)\n",
    "    \n",
    "    if i % 500 == 0:\n",
    "        for c in range(4):\n",
    "            start = len(mnist.test.images) // 4 * c\n",
    "            end = len(mnist.test.images) // 4 * (c+1)\n",
    "            loss_vals, acc_vals = sess.run([loss,accuracy],feed_dict={x:mnist.test.images[start:end],t:mnist.test.labels[start:end],keep_prob:1.0})\n",
    "        loss_val_sum = np.sum(loss_vals)\n",
    "        acc_val_sum = np.mean(acc_vals)\n",
    "        print('Step: %d, Loss:%f, Accuracy: %f' \n",
    "                % (i, loss_val_sum, acc_val_sum))\n",
    "saver.save(sess, '/Users/yamamotomasaomi/Documents/GitHub/Python_Study/opencv/learn_result_2cell', global_step=i)"
   ]
  },
  {
   "cell_type": "code",
   "execution_count": null,
   "metadata": {},
   "outputs": [],
   "source": []
  }
 ],
 "metadata": {
  "kernelspec": {
   "display_name": "Environment (conda_anaconda3-5.1.0)",
   "language": "python",
   "name": "conda_anaconda3-5.1.0"
  },
  "language_info": {
   "codemirror_mode": {
    "name": "ipython",
    "version": 3
   },
   "file_extension": ".py",
   "mimetype": "text/x-python",
   "name": "python",
   "nbconvert_exporter": "python",
   "pygments_lexer": "ipython3",
   "version": "3.6.4"
  },
  "toc": {
   "base_numbering": 1,
   "nav_menu": {},
   "number_sections": true,
   "sideBar": true,
   "skip_h1_title": false,
   "title_cell": "Table of Contents",
   "title_sidebar": "Contents",
   "toc_cell": false,
   "toc_position": {},
   "toc_section_display": true,
   "toc_window_display": false
  }
 },
 "nbformat": 4,
 "nbformat_minor": 2
}
