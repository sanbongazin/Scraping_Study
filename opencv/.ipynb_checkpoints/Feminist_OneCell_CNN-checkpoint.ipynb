{
 "cells": [
  {
   "cell_type": "code",
   "execution_count": 1,
   "metadata": {},
   "outputs": [
    {
     "name": "stderr",
     "output_type": "stream",
     "text": [
      "/Users/yamamotomasaomi/.pyenv/versions/anaconda3-5.1.0/envs/makuwo/lib/python3.5/importlib/_bootstrap.py:222: RuntimeWarning: compiletime version 3.6 of module 'tensorflow.python.framework.fast_tensor_util' does not match runtime version 3.5\n",
      "  return f(*args, **kwds)\n"
     ]
    }
   ],
   "source": [
    "import cv2 as cv\n",
    "import random\n",
    "import numpy as np\n",
    "import tensorflow as tf\n",
    "import matplotlib.pyplot as plt\n",
    "\n",
    "PATH_AND_LABEL = []\n",
    "\n",
    "with open (\"path_and_label\", mode=\"r\") as file :\n",
    "    for line in file:\n",
    "        line = line.rstrip()\n",
    "        line_list = line.split()\n",
    "        PATH_AND_LABEL.append(line_list)\n",
    "        random.shuffle(PATH_AND_LABEL)\n",
    "\n",
    "DATA_SET = []\n",
    "n = 0\n",
    "for path_label in PATH_AND_LABEL :\n",
    "    tmp_list = []\n",
    "    \n",
    "    img = cv.imread(path_label[0])\n",
    "    img = cv.resize(img,(28,28))\n",
    "    \n",
    "    img = img.flatten().astype(np.float32)/255.0\n",
    "    \n",
    "    tmp_list.append(img)\n",
    "    \n",
    "    classes_array = np.zeros(3, dtype = 'float64')\n",
    "#     原因こいつだわ。条件満たす場合のみ０にするしかない。\n",
    "    if n >= 104:\n",
    "         classes_array[int(path_label[0])] = 1\n",
    "    else :\n",
    "        classes_array[int(path_label[1])] = 1\n",
    "    tmp_list.append(classes_array)\n",
    "    DATA_SET.append(tmp_list)\n",
    "\n",
    "TRAIN_DATA_SIZE = int(len(DATA_SET) * 0.8)\n",
    "TRAIN_DATA_SET = DATA_SET[:TRAIN_DATA_SIZE]\n",
    "TEST_DATA_SET = DATA_SET[TRAIN_DATA_SIZE:]"
   ]
  },
  {
   "cell_type": "code",
   "execution_count": 2,
   "metadata": {},
   "outputs": [],
   "source": [
    "CHANNELS = 3\n",
    "NUM_CLASSES = 3\n",
    "IMAGE_SIZE = 28\n",
    "IMAGE_MATRIX_SIZE = IMAGE_SIZE * IMAGE_SIZE * CHANNELS\n",
    "PATH_LABEL_FILE = \"path_and_label\"\n",
    "\n",
    "def devide_data_set(data_set) :\n",
    "    data_set = np.array(data_set)\n",
    "    image_data_set = data_set[:int(len(data_set)), :1].flatten()\n",
    "    label_data_set = data_set[:int(len(data_set)), 1:].flatten()\n",
    "\n",
    "    image_ndarray = np.empty((0, IMAGE_MATRIX_SIZE))\n",
    "    label_ndarray = np.empty((0, NUM_CLASSES))\n",
    "\n",
    "    for (img, label) in zip(image_data_set, label_data_set) :\n",
    "        image_ndarray = np.append(image_ndarray, np.reshape(img, (1, IMAGE_MATRIX_SIZE)), axis=0)\n",
    "        label_ndarray = np.append(label_ndarray, np.reshape(label, (1, NUM_CLASSES)), axis=0)\n",
    "\n",
    "    return image_ndarray, label_ndarray\n",
    "\n",
    "# データーセットの生成\n",
    "for epoch_step in range(100) :\n",
    "    train_data_set = random.sample(TRAIN_DATA_SET, 50)\n",
    "    train_image, train_label = devide_data_set(train_data_set)\n",
    "    \n",
    "for epoch_step in range(40) :\n",
    "    test_data_set = random.sample(TEST_DATA_SET, 20)\n",
    "    test_image, test_label = devide_data_set(test_data_set)"
   ]
  },
  {
   "cell_type": "code",
   "execution_count": 3,
   "metadata": {},
   "outputs": [],
   "source": [
    "num_units = 1024\n",
    "\n",
    "# プレースホルダーの設定\n",
    "x = tf.placeholder(tf.float32,[None, IMAGE_MATRIX_SIZE])\n",
    "w1 = tf.Variable(tf.truncated_normal([IMAGE_MATRIX_SIZE, num_units]))\n",
    "b1 = tf.Variable(tf.zeros([num_units]))\n",
    "hidden1 = tf.nn.relu(tf.matmul(x, w1)+b1)\n",
    "\n",
    "w0 = tf.Variable(tf.zeros([num_units,3]))\n",
    "b0 = tf.Variable(tf.zeros([3]))\n",
    "p = tf.nn.softmax(tf.matmul(hidden1, w0) + b0)"
   ]
  },
  {
   "cell_type": "code",
   "execution_count": 4,
   "metadata": {},
   "outputs": [
    {
     "name": "stdout",
     "output_type": "stream",
     "text": [
      "WARNING:tensorflow:From <ipython-input-4-794d68e7b00b>:4: arg_max (from tensorflow.python.ops.gen_math_ops) is deprecated and will be removed in a future version.\n",
      "Instructions for updating:\n",
      "Use `argmax` instead\n"
     ]
    }
   ],
   "source": [
    "t = tf.placeholder(tf.float32, [None, 3])\n",
    "loss = -tf.reduce_sum(t * tf.log(p))\n",
    "train_step = tf.train.AdamOptimizer().minimize(loss)\n",
    "correct_prediction = tf.equal(tf.arg_max(p, 1), tf.arg_max(t, 1))\n",
    "accuracy = tf.reduce_mean(tf.cast(correct_prediction, tf.float32))"
   ]
  },
  {
   "cell_type": "code",
   "execution_count": 5,
   "metadata": {},
   "outputs": [],
   "source": [
    "sess = tf.Session()\n",
    "sess.run(tf.global_variables_initializer())\n",
    "saver = tf.train.Saver()"
   ]
  },
  {
   "cell_type": "code",
   "execution_count": null,
   "metadata": {},
   "outputs": [],
   "source": [
    "i=0\n",
    "time = []\n",
    "loss_val , acc_val = [], []\n",
    "loss_vals, acc_vals = [], []\n",
    "\n",
    "for _ in range (2000):\n",
    "    i+=1\n",
    "    batch_xs, batch_ts = train_image,train_label \n",
    "    sess.run(train_step,feed_dict={x:batch_xs, t: batch_ts})\n",
    "    time.append(i)\n",
    "    loss_val.append(loss_vals)\n",
    "    acc_val.append(acc_vals)\n",
    "    \n",
    "    if i % 500 == 0:\n",
    "        for c in range(4):\n",
    "            start = len(test_image) // 4 * c\n",
    "            end = len(test_image) // 4 * (c+1)\n",
    "            loss_vals, acc_vals = sess.run([loss,accuracy],feed_dict={x:test_image[start:end],t:test_label[start:end]})\n",
    "        loss_val_sum = np.sum(loss_vals)\n",
    "        acc_val_sum = np.mean(acc_vals)\n",
    "        print('Step: %d, Loss:%f, Accuracy: %f' \n",
    "                % (i, loss_val_sum, acc_val_sum))\n",
    "saver.save(sess, '/Users/yamamotomasaomi/Documents/GitHub/Python_Study/opencv/learn_result', global_step=i)"
   ]
  },
  {
   "cell_type": "code",
   "execution_count": null,
   "metadata": {},
   "outputs": [],
   "source": [
    "p_val = sess.run(p, feed_dict={x:batch_xs, t:batch_ts})\n",
    "fig = plt.figure(figsize = (8,15))\n",
    "for i in range(10):\n",
    "    c = 1\n",
    "    for (image, label, pred) in zip(train_image, train_label, p_val):\n",
    "        prediction, actual = np.argmax(pred), np.argmax(label)\n",
    "        if prediction != i:\n",
    "            continue\n",
    "        if (c < 16  and i == actual) or (c >= 4 and i != actual):\n",
    "            subplot = fig.add_subplot(10,6,i*6+c)\n",
    "            subplot.set_xticks([])\n",
    "            subplot.set_yticks([])\n",
    "            subplot.set_title('%d/%d' % (prediction,actual))\n",
    "            subplot.imshow(image.reshape(28,28,3), vmin=0, vmax=1,cmap=plt.cm.gray_r, interpolation=\"nearest\")\n",
    "            c += 1\n",
    "        if c > 24:\n",
    "            break"
   ]
  },
  {
   "cell_type": "code",
   "execution_count": null,
   "metadata": {},
   "outputs": [],
   "source": [
    "fig = plt.figure(figsize=(8,6))\n",
    "subplot = fig.add_subplot(1,1,1)\n",
    "subplot.plot(time,loss_val,linewidth=2)\n",
    "fig2 = plt.figure(figsize=(8,6))\n",
    "subplot2 = fig2.add_subplot(1,1,1)\n",
    "subplot2.plot(time,acc_val)"
   ]
  },
  {
   "cell_type": "code",
   "execution_count": null,
   "metadata": {},
   "outputs": [],
   "source": [
    "from IPython.display import display\n",
    "import fileupload\n",
    "\n",
    "uploader = fileupload.FileUploadWidget()\n",
    "\n",
    "def _handle_upload(change):\n",
    "    w = change['owner']\n",
    "    with open(w.filename, 'wb') as f:\n",
    "        f.write(w.data)\n",
    "    print('Uploaded `{}` ({:.2f} kB)'.format(\n",
    "        w.filename, len(w.data) / 2**10))\n",
    "\n",
    "uploader.observe(_handle_upload, names='data')\n",
    "\n",
    "display(uploader)"
   ]
  },
  {
   "cell_type": "code",
   "execution_count": null,
   "metadata": {},
   "outputs": [],
   "source": []
  }
 ],
 "metadata": {
  "kernelspec": {
   "display_name": "Environment (conda_makuwo)",
   "language": "python",
   "name": "conda_makuwo"
  },
  "language_info": {
   "codemirror_mode": {
    "name": "ipython",
    "version": 3
   },
   "file_extension": ".py",
   "mimetype": "text/x-python",
   "name": "python",
   "nbconvert_exporter": "python",
   "pygments_lexer": "ipython3",
   "version": "3.5.5"
  },
  "toc": {
   "base_numbering": 1,
   "nav_menu": {},
   "number_sections": true,
   "sideBar": true,
   "skip_h1_title": false,
   "title_cell": "Table of Contents",
   "title_sidebar": "Contents",
   "toc_cell": false,
   "toc_position": {},
   "toc_section_display": true,
   "toc_window_display": false
  }
 },
 "nbformat": 4,
 "nbformat_minor": 2
}
